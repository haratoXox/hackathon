{
 "cells": [
  {
   "cell_type": "code",
   "execution_count": 1,
   "id": "948b8544",
   "metadata": {},
   "outputs": [
    {
     "name": "stdout",
     "output_type": "stream",
     "text": [
      "2.11.0\n"
     ]
    }
   ],
   "source": [
    "import numpy as np\n",
    "import pandas as pd\n",
    "\n",
    "import matplotlib.pyplot as plt\n",
    "\n",
    "from sklearn.preprocessing import StandardScaler\n",
    "from sklearn.model_selection import train_test_split\n",
    "\n",
    "import tensorflow as tf;print(tf.__version__)"
   ]
  },
  {
   "cell_type": "code",
   "execution_count": 2,
   "id": "635e1a68",
   "metadata": {},
   "outputs": [
    {
     "name": "stdout",
     "output_type": "stream",
     "text": [
      "             Timestamp  Age  Gender         Country state self_employed  \\\n",
      "0  2014-08-27 11:29:31   37  Female   United States    IL           NaN   \n",
      "1  2014-08-27 11:29:37   44       M   United States    IN           NaN   \n",
      "2  2014-08-27 11:29:44   32    Male          Canada   NaN           NaN   \n",
      "3  2014-08-27 11:29:46   31    Male  United Kingdom   NaN           NaN   \n",
      "4  2014-08-27 11:30:22   31    Male   United States    TX           NaN   \n",
      "\n",
      "  family_history treatment work_interfere    no_employees  ...  \\\n",
      "0             No       Yes          Often            6-25  ...   \n",
      "1             No        No         Rarely  More than 1000  ...   \n",
      "2             No        No         Rarely            6-25  ...   \n",
      "3            Yes       Yes          Often          26-100  ...   \n",
      "4             No        No          Never         100-500  ...   \n",
      "\n",
      "                leave mental_health_consequence phys_health_consequence  \\\n",
      "0       Somewhat easy                        No                      No   \n",
      "1          Don't know                     Maybe                      No   \n",
      "2  Somewhat difficult                        No                      No   \n",
      "3  Somewhat difficult                       Yes                     Yes   \n",
      "4          Don't know                        No                      No   \n",
      "\n",
      "      coworkers supervisor mental_health_interview phys_health_interview  \\\n",
      "0  Some of them        Yes                      No                 Maybe   \n",
      "1            No         No                      No                    No   \n",
      "2           Yes        Yes                     Yes                   Yes   \n",
      "3  Some of them         No                   Maybe                 Maybe   \n",
      "4  Some of them        Yes                     Yes                   Yes   \n",
      "\n",
      "  mental_vs_physical obs_consequence comments  \n",
      "0                Yes              No      NaN  \n",
      "1         Don't know              No      NaN  \n",
      "2                 No              No      NaN  \n",
      "3                 No             Yes      NaN  \n",
      "4         Don't know              No      NaN  \n",
      "\n",
      "[5 rows x 27 columns]\n"
     ]
    }
   ],
   "source": [
    "data = pd.read_csv(\"C:\\\\Users\\\\ritik\\\\Downloads\\\\survey.csv\")\n",
    "print(data.head())\n",
    "df = data.copy()"
   ]
  },
  {
   "cell_type": "code",
   "execution_count": 3,
   "id": "41d46945",
   "metadata": {},
   "outputs": [],
   "source": [
    "data = data[[\"Age\",\"Gender\",\"family_history\",\"benefits\",\"care_options\",\"anonymity\",\"leave\",\"work_interfere\",\"treatment\"]]"
   ]
  },
  {
   "cell_type": "code",
   "execution_count": 4,
   "id": "9bba55dc",
   "metadata": {},
   "outputs": [
    {
     "data": {
      "text/plain": [
       "Age                 0\n",
       "Gender              0\n",
       "family_history      0\n",
       "benefits            0\n",
       "care_options        0\n",
       "anonymity           0\n",
       "leave               0\n",
       "work_interfere    264\n",
       "treatment           0\n",
       "dtype: int64"
      ]
     },
     "execution_count": 4,
     "metadata": {},
     "output_type": "execute_result"
    }
   ],
   "source": [
    "data.isna().sum()"
   ]
  },
  {
   "cell_type": "code",
   "execution_count": 5,
   "id": "6a1a3dbd",
   "metadata": {},
   "outputs": [
    {
     "data": {
      "text/plain": [
       "array(['Often', 'Rarely', 'Never', 'Sometimes', nan], dtype=object)"
      ]
     },
     "execution_count": 5,
     "metadata": {},
     "output_type": "execute_result"
    }
   ],
   "source": [
    "data['work_interfere'].unique()"
   ]
  },
  {
   "cell_type": "code",
   "execution_count": 6,
   "id": "c120d778",
   "metadata": {},
   "outputs": [
    {
     "data": {
      "text/plain": [
       "0    Sometimes\n",
       "dtype: object"
      ]
     },
     "execution_count": 6,
     "metadata": {},
     "output_type": "execute_result"
    }
   ],
   "source": [
    "data['work_interfere'].mode()"
   ]
  },
  {
   "cell_type": "code",
   "execution_count": 7,
   "id": "932e21b7",
   "metadata": {},
   "outputs": [],
   "source": [
    "data['work_interfere'] = data['work_interfere'].fillna('Sometimes')"
   ]
  },
  {
   "cell_type": "code",
   "execution_count": 8,
   "id": "5a492349",
   "metadata": {},
   "outputs": [
    {
     "data": {
      "text/html": [
       "<div>\n",
       "<style scoped>\n",
       "    .dataframe tbody tr th:only-of-type {\n",
       "        vertical-align: middle;\n",
       "    }\n",
       "\n",
       "    .dataframe tbody tr th {\n",
       "        vertical-align: top;\n",
       "    }\n",
       "\n",
       "    .dataframe thead th {\n",
       "        text-align: right;\n",
       "    }\n",
       "</style>\n",
       "<table border=\"1\" class=\"dataframe\">\n",
       "  <thead>\n",
       "    <tr style=\"text-align: right;\">\n",
       "      <th></th>\n",
       "      <th>Age</th>\n",
       "      <th>Gender</th>\n",
       "      <th>family_history</th>\n",
       "      <th>benefits</th>\n",
       "      <th>care_options</th>\n",
       "      <th>anonymity</th>\n",
       "      <th>leave</th>\n",
       "      <th>work_interfere</th>\n",
       "      <th>treatment</th>\n",
       "    </tr>\n",
       "  </thead>\n",
       "  <tbody>\n",
       "    <tr>\n",
       "      <th>0</th>\n",
       "      <td>37</td>\n",
       "      <td>Female</td>\n",
       "      <td>No</td>\n",
       "      <td>Yes</td>\n",
       "      <td>Not sure</td>\n",
       "      <td>Yes</td>\n",
       "      <td>Somewhat easy</td>\n",
       "      <td>Often</td>\n",
       "      <td>Yes</td>\n",
       "    </tr>\n",
       "    <tr>\n",
       "      <th>1</th>\n",
       "      <td>44</td>\n",
       "      <td>M</td>\n",
       "      <td>No</td>\n",
       "      <td>Don't know</td>\n",
       "      <td>No</td>\n",
       "      <td>Don't know</td>\n",
       "      <td>Don't know</td>\n",
       "      <td>Rarely</td>\n",
       "      <td>No</td>\n",
       "    </tr>\n",
       "    <tr>\n",
       "      <th>2</th>\n",
       "      <td>32</td>\n",
       "      <td>Male</td>\n",
       "      <td>No</td>\n",
       "      <td>No</td>\n",
       "      <td>No</td>\n",
       "      <td>Don't know</td>\n",
       "      <td>Somewhat difficult</td>\n",
       "      <td>Rarely</td>\n",
       "      <td>No</td>\n",
       "    </tr>\n",
       "    <tr>\n",
       "      <th>3</th>\n",
       "      <td>31</td>\n",
       "      <td>Male</td>\n",
       "      <td>Yes</td>\n",
       "      <td>No</td>\n",
       "      <td>Yes</td>\n",
       "      <td>No</td>\n",
       "      <td>Somewhat difficult</td>\n",
       "      <td>Often</td>\n",
       "      <td>Yes</td>\n",
       "    </tr>\n",
       "    <tr>\n",
       "      <th>4</th>\n",
       "      <td>31</td>\n",
       "      <td>Male</td>\n",
       "      <td>No</td>\n",
       "      <td>Yes</td>\n",
       "      <td>No</td>\n",
       "      <td>Don't know</td>\n",
       "      <td>Don't know</td>\n",
       "      <td>Never</td>\n",
       "      <td>No</td>\n",
       "    </tr>\n",
       "  </tbody>\n",
       "</table>\n",
       "</div>"
      ],
      "text/plain": [
       "   Age  Gender family_history    benefits care_options   anonymity  \\\n",
       "0   37  Female             No         Yes     Not sure         Yes   \n",
       "1   44       M             No  Don't know           No  Don't know   \n",
       "2   32    Male             No          No           No  Don't know   \n",
       "3   31    Male            Yes          No          Yes          No   \n",
       "4   31    Male             No         Yes           No  Don't know   \n",
       "\n",
       "                leave work_interfere treatment  \n",
       "0       Somewhat easy          Often       Yes  \n",
       "1          Don't know         Rarely        No  \n",
       "2  Somewhat difficult         Rarely        No  \n",
       "3  Somewhat difficult          Often       Yes  \n",
       "4          Don't know          Never        No  "
      ]
     },
     "execution_count": 8,
     "metadata": {},
     "output_type": "execute_result"
    }
   ],
   "source": [
    "data.head()"
   ]
  },
  {
   "cell_type": "code",
   "execution_count": 9,
   "id": "362a33a2",
   "metadata": {},
   "outputs": [
    {
     "data": {
      "text/html": [
       "<div>\n",
       "<style scoped>\n",
       "    .dataframe tbody tr th:only-of-type {\n",
       "        vertical-align: middle;\n",
       "    }\n",
       "\n",
       "    .dataframe tbody tr th {\n",
       "        vertical-align: top;\n",
       "    }\n",
       "\n",
       "    .dataframe thead th {\n",
       "        text-align: right;\n",
       "    }\n",
       "</style>\n",
       "<table border=\"1\" class=\"dataframe\">\n",
       "  <thead>\n",
       "    <tr style=\"text-align: right;\">\n",
       "      <th></th>\n",
       "      <th>Age</th>\n",
       "      <th>Gender</th>\n",
       "      <th>family_history</th>\n",
       "      <th>benefits</th>\n",
       "      <th>care_options</th>\n",
       "      <th>anonymity</th>\n",
       "      <th>leave</th>\n",
       "      <th>work_interfere</th>\n",
       "      <th>treatment</th>\n",
       "    </tr>\n",
       "  </thead>\n",
       "  <tbody>\n",
       "    <tr>\n",
       "      <th>0</th>\n",
       "      <td>37</td>\n",
       "      <td>Female</td>\n",
       "      <td>No</td>\n",
       "      <td>Yes</td>\n",
       "      <td>Not sure</td>\n",
       "      <td>Yes</td>\n",
       "      <td>Somewhat easy</td>\n",
       "      <td>Often</td>\n",
       "      <td>Yes</td>\n",
       "    </tr>\n",
       "    <tr>\n",
       "      <th>1</th>\n",
       "      <td>44</td>\n",
       "      <td>M</td>\n",
       "      <td>No</td>\n",
       "      <td>Don't know</td>\n",
       "      <td>No</td>\n",
       "      <td>Don't know</td>\n",
       "      <td>Don't know</td>\n",
       "      <td>Rarely</td>\n",
       "      <td>No</td>\n",
       "    </tr>\n",
       "    <tr>\n",
       "      <th>2</th>\n",
       "      <td>32</td>\n",
       "      <td>Male</td>\n",
       "      <td>No</td>\n",
       "      <td>No</td>\n",
       "      <td>No</td>\n",
       "      <td>Don't know</td>\n",
       "      <td>Somewhat difficult</td>\n",
       "      <td>Rarely</td>\n",
       "      <td>No</td>\n",
       "    </tr>\n",
       "    <tr>\n",
       "      <th>3</th>\n",
       "      <td>31</td>\n",
       "      <td>Male</td>\n",
       "      <td>Yes</td>\n",
       "      <td>No</td>\n",
       "      <td>Yes</td>\n",
       "      <td>No</td>\n",
       "      <td>Somewhat difficult</td>\n",
       "      <td>Often</td>\n",
       "      <td>Yes</td>\n",
       "    </tr>\n",
       "    <tr>\n",
       "      <th>4</th>\n",
       "      <td>31</td>\n",
       "      <td>Male</td>\n",
       "      <td>No</td>\n",
       "      <td>Yes</td>\n",
       "      <td>No</td>\n",
       "      <td>Don't know</td>\n",
       "      <td>Don't know</td>\n",
       "      <td>Never</td>\n",
       "      <td>No</td>\n",
       "    </tr>\n",
       "  </tbody>\n",
       "</table>\n",
       "</div>"
      ],
      "text/plain": [
       "   Age  Gender family_history    benefits care_options   anonymity  \\\n",
       "0   37  Female             No         Yes     Not sure         Yes   \n",
       "1   44       M             No  Don't know           No  Don't know   \n",
       "2   32    Male             No          No           No  Don't know   \n",
       "3   31    Male            Yes          No          Yes          No   \n",
       "4   31    Male             No         Yes           No  Don't know   \n",
       "\n",
       "                leave work_interfere treatment  \n",
       "0       Somewhat easy          Often       Yes  \n",
       "1          Don't know         Rarely        No  \n",
       "2  Somewhat difficult         Rarely        No  \n",
       "3  Somewhat difficult          Often       Yes  \n",
       "4          Don't know          Never        No  "
      ]
     },
     "execution_count": 9,
     "metadata": {},
     "output_type": "execute_result"
    }
   ],
   "source": [
    "data.head()"
   ]
  },
  {
   "cell_type": "code",
   "execution_count": 10,
   "id": "016e6ac6",
   "metadata": {},
   "outputs": [
    {
     "data": {
      "text/plain": [
       "{'Gender': 49,\n",
       " 'family_history': 2,\n",
       " 'benefits': 3,\n",
       " 'care_options': 3,\n",
       " 'anonymity': 3,\n",
       " 'leave': 5,\n",
       " 'work_interfere': 4,\n",
       " 'treatment': 2}"
      ]
     },
     "execution_count": 10,
     "metadata": {},
     "output_type": "execute_result"
    }
   ],
   "source": [
    "{column: len(data[column].unique()) for column in data.select_dtypes('object').columns}"
   ]
  },
  {
   "cell_type": "code",
   "execution_count": 11,
   "id": "21e0d8fa",
   "metadata": {},
   "outputs": [
    {
     "data": {
      "text/plain": [
       "{'Gender': ['Female',\n",
       "  'M',\n",
       "  'Male',\n",
       "  'male',\n",
       "  'female',\n",
       "  'm',\n",
       "  'Male-ish',\n",
       "  'maile',\n",
       "  'Trans-female',\n",
       "  'Cis Female',\n",
       "  'F',\n",
       "  'something kinda male?',\n",
       "  'Cis Male',\n",
       "  'Woman',\n",
       "  'f',\n",
       "  'Mal',\n",
       "  'Male (CIS)',\n",
       "  'queer/she/they',\n",
       "  'non-binary',\n",
       "  'Femake',\n",
       "  'woman',\n",
       "  'Make',\n",
       "  'Nah',\n",
       "  'All',\n",
       "  'Enby',\n",
       "  'fluid',\n",
       "  'Genderqueer',\n",
       "  'Female ',\n",
       "  'Androgyne',\n",
       "  'Agender',\n",
       "  'cis-female/femme',\n",
       "  'Guy (-ish) ^_^',\n",
       "  'male leaning androgynous',\n",
       "  'Male ',\n",
       "  'Man',\n",
       "  'Trans woman',\n",
       "  'msle',\n",
       "  'Neuter',\n",
       "  'Female (trans)',\n",
       "  'queer',\n",
       "  'Female (cis)',\n",
       "  'Mail',\n",
       "  'cis male',\n",
       "  'A little about you',\n",
       "  'Malr',\n",
       "  'p',\n",
       "  'femail',\n",
       "  'Cis Man',\n",
       "  'ostensibly male, unsure what that really means'],\n",
       " 'family_history': ['No', 'Yes'],\n",
       " 'benefits': ['Yes', \"Don't know\", 'No'],\n",
       " 'care_options': ['Not sure', 'No', 'Yes'],\n",
       " 'anonymity': ['Yes', \"Don't know\", 'No'],\n",
       " 'leave': ['Somewhat easy',\n",
       "  \"Don't know\",\n",
       "  'Somewhat difficult',\n",
       "  'Very difficult',\n",
       "  'Very easy'],\n",
       " 'work_interfere': ['Often', 'Rarely', 'Never', 'Sometimes'],\n",
       " 'treatment': ['Yes', 'No']}"
      ]
     },
     "execution_count": 11,
     "metadata": {},
     "output_type": "execute_result"
    }
   ],
   "source": [
    "{column: list(data[column].unique()) for column in data.select_dtypes('object').columns}"
   ]
  },
  {
   "cell_type": "code",
   "execution_count": 12,
   "id": "25ad96eb",
   "metadata": {},
   "outputs": [],
   "source": [
    "def encode_gender(x):\n",
    "    if x.lower()[0] == 'f':\n",
    "        return 0\n",
    "    elif x.lower()[0] == 'm':\n",
    "        return 1\n",
    "    else:\n",
    "        return 2"
   ]
  },
  {
   "cell_type": "code",
   "execution_count": 13,
   "id": "6708c39a",
   "metadata": {},
   "outputs": [],
   "source": [
    "data['Gender'] = data['Gender'].apply(encode_gender)"
   ]
  },
  {
   "cell_type": "code",
   "execution_count": 14,
   "id": "d97b65a5",
   "metadata": {},
   "outputs": [
    {
     "data": {
      "text/html": [
       "<div>\n",
       "<style scoped>\n",
       "    .dataframe tbody tr th:only-of-type {\n",
       "        vertical-align: middle;\n",
       "    }\n",
       "\n",
       "    .dataframe tbody tr th {\n",
       "        vertical-align: top;\n",
       "    }\n",
       "\n",
       "    .dataframe thead th {\n",
       "        text-align: right;\n",
       "    }\n",
       "</style>\n",
       "<table border=\"1\" class=\"dataframe\">\n",
       "  <thead>\n",
       "    <tr style=\"text-align: right;\">\n",
       "      <th></th>\n",
       "      <th>Age</th>\n",
       "      <th>Gender</th>\n",
       "      <th>family_history</th>\n",
       "      <th>benefits</th>\n",
       "      <th>care_options</th>\n",
       "      <th>anonymity</th>\n",
       "      <th>leave</th>\n",
       "      <th>work_interfere</th>\n",
       "      <th>treatment</th>\n",
       "    </tr>\n",
       "  </thead>\n",
       "  <tbody>\n",
       "    <tr>\n",
       "      <th>0</th>\n",
       "      <td>37</td>\n",
       "      <td>0</td>\n",
       "      <td>No</td>\n",
       "      <td>Yes</td>\n",
       "      <td>Not sure</td>\n",
       "      <td>Yes</td>\n",
       "      <td>Somewhat easy</td>\n",
       "      <td>Often</td>\n",
       "      <td>Yes</td>\n",
       "    </tr>\n",
       "    <tr>\n",
       "      <th>1</th>\n",
       "      <td>44</td>\n",
       "      <td>1</td>\n",
       "      <td>No</td>\n",
       "      <td>Don't know</td>\n",
       "      <td>No</td>\n",
       "      <td>Don't know</td>\n",
       "      <td>Don't know</td>\n",
       "      <td>Rarely</td>\n",
       "      <td>No</td>\n",
       "    </tr>\n",
       "    <tr>\n",
       "      <th>2</th>\n",
       "      <td>32</td>\n",
       "      <td>1</td>\n",
       "      <td>No</td>\n",
       "      <td>No</td>\n",
       "      <td>No</td>\n",
       "      <td>Don't know</td>\n",
       "      <td>Somewhat difficult</td>\n",
       "      <td>Rarely</td>\n",
       "      <td>No</td>\n",
       "    </tr>\n",
       "    <tr>\n",
       "      <th>3</th>\n",
       "      <td>31</td>\n",
       "      <td>1</td>\n",
       "      <td>Yes</td>\n",
       "      <td>No</td>\n",
       "      <td>Yes</td>\n",
       "      <td>No</td>\n",
       "      <td>Somewhat difficult</td>\n",
       "      <td>Often</td>\n",
       "      <td>Yes</td>\n",
       "    </tr>\n",
       "    <tr>\n",
       "      <th>4</th>\n",
       "      <td>31</td>\n",
       "      <td>1</td>\n",
       "      <td>No</td>\n",
       "      <td>Yes</td>\n",
       "      <td>No</td>\n",
       "      <td>Don't know</td>\n",
       "      <td>Don't know</td>\n",
       "      <td>Never</td>\n",
       "      <td>No</td>\n",
       "    </tr>\n",
       "  </tbody>\n",
       "</table>\n",
       "</div>"
      ],
      "text/plain": [
       "   Age  Gender family_history    benefits care_options   anonymity  \\\n",
       "0   37       0             No         Yes     Not sure         Yes   \n",
       "1   44       1             No  Don't know           No  Don't know   \n",
       "2   32       1             No          No           No  Don't know   \n",
       "3   31       1            Yes          No          Yes          No   \n",
       "4   31       1             No         Yes           No  Don't know   \n",
       "\n",
       "                leave work_interfere treatment  \n",
       "0       Somewhat easy          Often       Yes  \n",
       "1          Don't know         Rarely        No  \n",
       "2  Somewhat difficult         Rarely        No  \n",
       "3  Somewhat difficult          Often       Yes  \n",
       "4          Don't know          Never        No  "
      ]
     },
     "execution_count": 14,
     "metadata": {},
     "output_type": "execute_result"
    }
   ],
   "source": [
    "data.head()"
   ]
  },
  {
   "cell_type": "code",
   "execution_count": 15,
   "id": "b86796ae",
   "metadata": {},
   "outputs": [],
   "source": [
    "target = 'treatment'\n",
    "\n",
    "binary_features = [\n",
    "    'family_history',\n",
    "]\n",
    "\n",
    "ordinal_features = [\n",
    "    'work_interfere',\n",
    "]\n",
    "\n",
    "nominal_features = [\n",
    "    'benefits',\n",
    "    'care_options',\n",
    "    'anonymity',\n",
    "    'leave'\n",
    "]"
   ]
  },
  {
   "cell_type": "code",
   "execution_count": 16,
   "id": "135806e7",
   "metadata": {},
   "outputs": [],
   "source": [
    "def binary_encode(df, columns, positive_values):\n",
    "    df = df.copy()\n",
    "    for column, positive_value in zip(columns, positive_values):\n",
    "        df[column] = df[column].apply(lambda x: 1 if x == positive_value else 0)\n",
    "    return df\n",
    "\n",
    "def ordinal_encode(df, columns, orderings):\n",
    "    df = df.copy()\n",
    "    for column, ordering in zip(columns, orderings):\n",
    "        df[column] = df[column].apply(lambda x: ordering.index(x))\n",
    "    return df\n",
    "\n",
    "def onehot_encode(df, columns, prefixes):\n",
    "    df = df.copy()\n",
    "    for column, prefix in zip(columns, prefixes):\n",
    "        dummies = pd.get_dummies(df[column], prefix)\n",
    "        df = pd.concat([df, dummies], axis=1)\n",
    "        df = df.drop(column, axis=1)\n",
    "    return df"
   ]
  },
  {
   "cell_type": "code",
   "execution_count": 17,
   "id": "4c429ebb",
   "metadata": {},
   "outputs": [],
   "source": [
    "binary_positive_values = ['Yes' for feature in binary_features]\n",
    "\n",
    "ordinal_orderings = [\n",
    "    ['Never', 'Rarely', 'Sometimes', 'Often']\n",
    "]\n",
    "\n",
    "nominal_prefixes = [\n",
    "    'be',\n",
    "    'ca',\n",
    "    'an',\n",
    "    'le'\n",
    "]"
   ]
  },
  {
   "cell_type": "code",
   "execution_count": 18,
   "id": "bd561fe4",
   "metadata": {},
   "outputs": [],
   "source": [
    "data = binary_encode(\n",
    "    data,\n",
    "    columns=binary_features,\n",
    "    positive_values=binary_positive_values\n",
    ")\n",
    "\n",
    "data = ordinal_encode(\n",
    "    data,\n",
    "    columns=ordinal_features,\n",
    "    orderings=ordinal_orderings\n",
    ")\n",
    "\n",
    "data = onehot_encode(\n",
    "    data,\n",
    "    columns=nominal_features,\n",
    "    prefixes=nominal_prefixes\n",
    ")"
   ]
  },
  {
   "cell_type": "code",
   "execution_count": 19,
   "id": "75773568",
   "metadata": {},
   "outputs": [
    {
     "data": {
      "text/html": [
       "<div>\n",
       "<style scoped>\n",
       "    .dataframe tbody tr th:only-of-type {\n",
       "        vertical-align: middle;\n",
       "    }\n",
       "\n",
       "    .dataframe tbody tr th {\n",
       "        vertical-align: top;\n",
       "    }\n",
       "\n",
       "    .dataframe thead th {\n",
       "        text-align: right;\n",
       "    }\n",
       "</style>\n",
       "<table border=\"1\" class=\"dataframe\">\n",
       "  <thead>\n",
       "    <tr style=\"text-align: right;\">\n",
       "      <th></th>\n",
       "      <th>Age</th>\n",
       "      <th>Gender</th>\n",
       "      <th>family_history</th>\n",
       "      <th>work_interfere</th>\n",
       "      <th>treatment</th>\n",
       "      <th>be_Don't know</th>\n",
       "      <th>be_No</th>\n",
       "      <th>be_Yes</th>\n",
       "      <th>ca_No</th>\n",
       "      <th>ca_Not sure</th>\n",
       "      <th>ca_Yes</th>\n",
       "      <th>an_Don't know</th>\n",
       "      <th>an_No</th>\n",
       "      <th>an_Yes</th>\n",
       "      <th>le_Don't know</th>\n",
       "      <th>le_Somewhat difficult</th>\n",
       "      <th>le_Somewhat easy</th>\n",
       "      <th>le_Very difficult</th>\n",
       "      <th>le_Very easy</th>\n",
       "    </tr>\n",
       "  </thead>\n",
       "  <tbody>\n",
       "    <tr>\n",
       "      <th>0</th>\n",
       "      <td>37</td>\n",
       "      <td>0</td>\n",
       "      <td>0</td>\n",
       "      <td>3</td>\n",
       "      <td>Yes</td>\n",
       "      <td>0</td>\n",
       "      <td>0</td>\n",
       "      <td>1</td>\n",
       "      <td>0</td>\n",
       "      <td>1</td>\n",
       "      <td>0</td>\n",
       "      <td>0</td>\n",
       "      <td>0</td>\n",
       "      <td>1</td>\n",
       "      <td>0</td>\n",
       "      <td>0</td>\n",
       "      <td>1</td>\n",
       "      <td>0</td>\n",
       "      <td>0</td>\n",
       "    </tr>\n",
       "    <tr>\n",
       "      <th>1</th>\n",
       "      <td>44</td>\n",
       "      <td>1</td>\n",
       "      <td>0</td>\n",
       "      <td>1</td>\n",
       "      <td>No</td>\n",
       "      <td>1</td>\n",
       "      <td>0</td>\n",
       "      <td>0</td>\n",
       "      <td>1</td>\n",
       "      <td>0</td>\n",
       "      <td>0</td>\n",
       "      <td>1</td>\n",
       "      <td>0</td>\n",
       "      <td>0</td>\n",
       "      <td>1</td>\n",
       "      <td>0</td>\n",
       "      <td>0</td>\n",
       "      <td>0</td>\n",
       "      <td>0</td>\n",
       "    </tr>\n",
       "    <tr>\n",
       "      <th>2</th>\n",
       "      <td>32</td>\n",
       "      <td>1</td>\n",
       "      <td>0</td>\n",
       "      <td>1</td>\n",
       "      <td>No</td>\n",
       "      <td>0</td>\n",
       "      <td>1</td>\n",
       "      <td>0</td>\n",
       "      <td>1</td>\n",
       "      <td>0</td>\n",
       "      <td>0</td>\n",
       "      <td>1</td>\n",
       "      <td>0</td>\n",
       "      <td>0</td>\n",
       "      <td>0</td>\n",
       "      <td>1</td>\n",
       "      <td>0</td>\n",
       "      <td>0</td>\n",
       "      <td>0</td>\n",
       "    </tr>\n",
       "    <tr>\n",
       "      <th>3</th>\n",
       "      <td>31</td>\n",
       "      <td>1</td>\n",
       "      <td>1</td>\n",
       "      <td>3</td>\n",
       "      <td>Yes</td>\n",
       "      <td>0</td>\n",
       "      <td>1</td>\n",
       "      <td>0</td>\n",
       "      <td>0</td>\n",
       "      <td>0</td>\n",
       "      <td>1</td>\n",
       "      <td>0</td>\n",
       "      <td>1</td>\n",
       "      <td>0</td>\n",
       "      <td>0</td>\n",
       "      <td>1</td>\n",
       "      <td>0</td>\n",
       "      <td>0</td>\n",
       "      <td>0</td>\n",
       "    </tr>\n",
       "    <tr>\n",
       "      <th>4</th>\n",
       "      <td>31</td>\n",
       "      <td>1</td>\n",
       "      <td>0</td>\n",
       "      <td>0</td>\n",
       "      <td>No</td>\n",
       "      <td>0</td>\n",
       "      <td>0</td>\n",
       "      <td>1</td>\n",
       "      <td>1</td>\n",
       "      <td>0</td>\n",
       "      <td>0</td>\n",
       "      <td>1</td>\n",
       "      <td>0</td>\n",
       "      <td>0</td>\n",
       "      <td>1</td>\n",
       "      <td>0</td>\n",
       "      <td>0</td>\n",
       "      <td>0</td>\n",
       "      <td>0</td>\n",
       "    </tr>\n",
       "  </tbody>\n",
       "</table>\n",
       "</div>"
      ],
      "text/plain": [
       "   Age  Gender  family_history  work_interfere treatment  be_Don't know  \\\n",
       "0   37       0               0               3       Yes              0   \n",
       "1   44       1               0               1        No              1   \n",
       "2   32       1               0               1        No              0   \n",
       "3   31       1               1               3       Yes              0   \n",
       "4   31       1               0               0        No              0   \n",
       "\n",
       "   be_No  be_Yes  ca_No  ca_Not sure  ca_Yes  an_Don't know  an_No  an_Yes  \\\n",
       "0      0       1      0            1       0              0      0       1   \n",
       "1      0       0      1            0       0              1      0       0   \n",
       "2      1       0      1            0       0              1      0       0   \n",
       "3      1       0      0            0       1              0      1       0   \n",
       "4      0       1      1            0       0              1      0       0   \n",
       "\n",
       "   le_Don't know  le_Somewhat difficult  le_Somewhat easy  le_Very difficult  \\\n",
       "0              0                      0                 1                  0   \n",
       "1              1                      0                 0                  0   \n",
       "2              0                      1                 0                  0   \n",
       "3              0                      1                 0                  0   \n",
       "4              1                      0                 0                  0   \n",
       "\n",
       "   le_Very easy  \n",
       "0             0  \n",
       "1             0  \n",
       "2             0  \n",
       "3             0  \n",
       "4             0  "
      ]
     },
     "execution_count": 19,
     "metadata": {},
     "output_type": "execute_result"
    }
   ],
   "source": [
    "data.head()"
   ]
  },
  {
   "cell_type": "code",
   "execution_count": 20,
   "id": "82ebe16c",
   "metadata": {},
   "outputs": [],
   "source": [
    "data = binary_encode(data, columns=['treatment'], positive_values=['Yes'])"
   ]
  },
  {
   "cell_type": "code",
   "execution_count": 21,
   "id": "d99d69cf",
   "metadata": {},
   "outputs": [
    {
     "name": "stdout",
     "output_type": "stream",
     "text": [
      "Remaining non-numeric columns: 0\n"
     ]
    }
   ],
   "source": [
    "print(\"Remaining non-numeric columns:\", len(data.select_dtypes('object').columns))"
   ]
  },
  {
   "cell_type": "code",
   "execution_count": 22,
   "id": "8833c46a",
   "metadata": {},
   "outputs": [
    {
     "name": "stdout",
     "output_type": "stream",
     "text": [
      "Remaining missing values: 0\n"
     ]
    }
   ],
   "source": [
    "print(\"Remaining missing values:\", data.isna().sum().sum())"
   ]
  },
  {
   "cell_type": "code",
   "execution_count": 23,
   "id": "9dbe8888",
   "metadata": {},
   "outputs": [],
   "source": [
    "y = data['treatment'].copy()\n",
    "X = data.drop('treatment', axis=1).copy()"
   ]
  },
  {
   "cell_type": "code",
   "execution_count": 24,
   "id": "cf688f70",
   "metadata": {},
   "outputs": [],
   "source": [
    "scaler = StandardScaler()\n",
    "\n",
    "X = scaler.fit_transform(X)"
   ]
  },
  {
   "cell_type": "code",
   "execution_count": 25,
   "id": "bfe29ce7",
   "metadata": {},
   "outputs": [],
   "source": [
    "X_train, X_test, y_train, y_test = train_test_split(X, y, train_size=0.7, random_state=100)"
   ]
  },
  {
   "cell_type": "code",
   "execution_count": 26,
   "id": "f0686f4d",
   "metadata": {},
   "outputs": [
    {
     "data": {
      "text/plain": [
       "(1259, 18)"
      ]
     },
     "execution_count": 26,
     "metadata": {},
     "output_type": "execute_result"
    }
   ],
   "source": [
    "X.shape"
   ]
  },
  {
   "cell_type": "code",
   "execution_count": 27,
   "id": "5584299f",
   "metadata": {},
   "outputs": [
    {
     "name": "stdout",
     "output_type": "stream",
     "text": [
      "Class Distribution (Positive to Negative): 49.7% / 50.3%\n"
     ]
    }
   ],
   "source": [
    "print(\"Class Distribution (Positive to Negative): {:.1f}% / {:.1f}%\".format(y_train.mean() * 100, (1 - y_train.mean()) * 100))"
   ]
  },
  {
   "cell_type": "code",
   "execution_count": 28,
   "id": "211d7982",
   "metadata": {},
   "outputs": [
    {
     "name": "stdout",
     "output_type": "stream",
     "text": [
      "Epoch 1/90\n",
      "11/11 [==============================] - 1s 52ms/step - loss: 0.5852 - accuracy: 0.7017 - auc: 0.7668 - val_loss: 0.6831 - val_accuracy: 0.6384 - val_auc: 0.6975 - lr: 0.0010\n",
      "Epoch 2/90\n",
      "11/11 [==============================] - 0s 39ms/step - loss: 0.4966 - accuracy: 0.7543 - auc: 0.8382 - val_loss: 0.6485 - val_accuracy: 0.6610 - val_auc: 0.7147 - lr: 0.0010\n",
      "Epoch 3/90\n",
      "11/11 [==============================] - 0s 28ms/step - loss: 0.4740 - accuracy: 0.7628 - auc: 0.8547 - val_loss: 0.6604 - val_accuracy: 0.6497 - val_auc: 0.7130 - lr: 0.0010\n",
      "Epoch 4/90\n",
      "11/11 [==============================] - 0s 30ms/step - loss: 0.4589 - accuracy: 0.7841 - auc: 0.8641 - val_loss: 0.7099 - val_accuracy: 0.6441 - val_auc: 0.7115 - lr: 0.0010\n",
      "Epoch 5/90\n",
      "11/11 [==============================] - 0s 32ms/step - loss: 0.4454 - accuracy: 0.7884 - auc: 0.8727 - val_loss: 0.6548 - val_accuracy: 0.6441 - val_auc: 0.7232 - lr: 0.0010\n",
      "Epoch 6/90\n",
      "11/11 [==============================] - 0s 29ms/step - loss: 0.4334 - accuracy: 0.8011 - auc: 0.8801 - val_loss: 0.6867 - val_accuracy: 0.6328 - val_auc: 0.7160 - lr: 0.0010\n",
      "Epoch 7/90\n",
      "11/11 [==============================] - 0s 29ms/step - loss: 0.4247 - accuracy: 0.8068 - auc: 0.8840 - val_loss: 0.7107 - val_accuracy: 0.6384 - val_auc: 0.7133 - lr: 0.0010\n",
      "Epoch 8/90\n",
      "11/11 [==============================] - 0s 29ms/step - loss: 0.4081 - accuracy: 0.7983 - auc: 0.8937 - val_loss: 0.6931 - val_accuracy: 0.6384 - val_auc: 0.7284 - lr: 0.0010\n",
      "Epoch 9/90\n",
      "11/11 [==============================] - 0s 29ms/step - loss: 0.4117 - accuracy: 0.8054 - auc: 0.8920 - val_loss: 0.7193 - val_accuracy: 0.6610 - val_auc: 0.7119 - lr: 0.0010\n",
      "Epoch 10/90\n",
      "11/11 [==============================] - 0s 29ms/step - loss: 0.3990 - accuracy: 0.8139 - auc: 0.8991 - val_loss: 0.7293 - val_accuracy: 0.6328 - val_auc: 0.7170 - lr: 0.0010\n",
      "Epoch 11/90\n",
      "11/11 [==============================] - 0s 29ms/step - loss: 0.3993 - accuracy: 0.8097 - auc: 0.8973 - val_loss: 0.7257 - val_accuracy: 0.6441 - val_auc: 0.7244 - lr: 0.0010\n",
      "Epoch 12/90\n",
      "11/11 [==============================] - 0s 30ms/step - loss: 0.3894 - accuracy: 0.8097 - auc: 0.9026 - val_loss: 0.7334 - val_accuracy: 0.6328 - val_auc: 0.7217 - lr: 0.0010\n",
      "Epoch 13/90\n",
      "11/11 [==============================] - 0s 29ms/step - loss: 0.3675 - accuracy: 0.8366 - auc: 0.9217 - val_loss: 0.7341 - val_accuracy: 0.6497 - val_auc: 0.7222 - lr: 1.0000e-04\n",
      "Epoch 14/90\n",
      "11/11 [==============================] - 0s 30ms/step - loss: 0.3542 - accuracy: 0.8381 - auc: 0.9242 - val_loss: 0.7500 - val_accuracy: 0.6554 - val_auc: 0.7227 - lr: 1.0000e-04\n",
      "Epoch 15/90\n",
      "11/11 [==============================] - 0s 28ms/step - loss: 0.3511 - accuracy: 0.8381 - auc: 0.9251 - val_loss: 0.7523 - val_accuracy: 0.6554 - val_auc: 0.7244 - lr: 1.0000e-04\n",
      "Epoch 16/90\n",
      "11/11 [==============================] - 0s 28ms/step - loss: 0.3485 - accuracy: 0.8423 - auc: 0.9261 - val_loss: 0.7534 - val_accuracy: 0.6441 - val_auc: 0.7253 - lr: 1.0000e-04\n",
      "Epoch 17/90\n",
      "11/11 [==============================] - 0s 31ms/step - loss: 0.3458 - accuracy: 0.8409 - auc: 0.9273 - val_loss: 0.7581 - val_accuracy: 0.6497 - val_auc: 0.7251 - lr: 1.0000e-04\n",
      "Epoch 18/90\n",
      "11/11 [==============================] - 0s 32ms/step - loss: 0.3440 - accuracy: 0.8452 - auc: 0.9280 - val_loss: 0.7634 - val_accuracy: 0.6554 - val_auc: 0.7235 - lr: 1.0000e-04\n",
      "Epoch 19/90\n",
      "11/11 [==============================] - 0s 31ms/step - loss: 0.3424 - accuracy: 0.8452 - auc: 0.9289 - val_loss: 0.7674 - val_accuracy: 0.6497 - val_auc: 0.7237 - lr: 1.0000e-04\n",
      "Epoch 20/90\n",
      "11/11 [==============================] - 0s 32ms/step - loss: 0.3416 - accuracy: 0.8423 - auc: 0.9292 - val_loss: 0.7672 - val_accuracy: 0.6384 - val_auc: 0.7243 - lr: 1.0000e-04\n",
      "Epoch 21/90\n",
      "11/11 [==============================] - 0s 31ms/step - loss: 0.3406 - accuracy: 0.8452 - auc: 0.9298 - val_loss: 0.7664 - val_accuracy: 0.6497 - val_auc: 0.7240 - lr: 1.0000e-04\n",
      "Epoch 22/90\n",
      "11/11 [==============================] - 0s 30ms/step - loss: 0.3382 - accuracy: 0.8466 - auc: 0.9311 - val_loss: 0.7710 - val_accuracy: 0.6441 - val_auc: 0.7244 - lr: 1.0000e-04\n",
      "Epoch 23/90\n",
      "11/11 [==============================] - 0s 34ms/step - loss: 0.3356 - accuracy: 0.8494 - auc: 0.9324 - val_loss: 0.7710 - val_accuracy: 0.6441 - val_auc: 0.7243 - lr: 1.0000e-05\n",
      "Epoch 24/90\n",
      "11/11 [==============================] - 0s 31ms/step - loss: 0.3354 - accuracy: 0.8494 - auc: 0.9326 - val_loss: 0.7716 - val_accuracy: 0.6441 - val_auc: 0.7242 - lr: 1.0000e-05\n",
      "Epoch 25/90\n",
      "11/11 [==============================] - 0s 31ms/step - loss: 0.3353 - accuracy: 0.8480 - auc: 0.9327 - val_loss: 0.7723 - val_accuracy: 0.6441 - val_auc: 0.7243 - lr: 1.0000e-05\n",
      "Epoch 26/90\n",
      "11/11 [==============================] - 0s 31ms/step - loss: 0.3351 - accuracy: 0.8494 - auc: 0.9328 - val_loss: 0.7724 - val_accuracy: 0.6441 - val_auc: 0.7242 - lr: 1.0000e-05\n",
      "Epoch 27/90\n",
      "11/11 [==============================] - 0s 30ms/step - loss: 0.3350 - accuracy: 0.8480 - auc: 0.9329 - val_loss: 0.7726 - val_accuracy: 0.6441 - val_auc: 0.7247 - lr: 1.0000e-05\n",
      "Epoch 28/90\n",
      "11/11 [==============================] - 0s 30ms/step - loss: 0.3348 - accuracy: 0.8480 - auc: 0.9329 - val_loss: 0.7728 - val_accuracy: 0.6441 - val_auc: 0.7247 - lr: 1.0000e-05\n",
      "Epoch 29/90\n",
      "11/11 [==============================] - 0s 32ms/step - loss: 0.3348 - accuracy: 0.8494 - auc: 0.9327 - val_loss: 0.7729 - val_accuracy: 0.6441 - val_auc: 0.7247 - lr: 1.0000e-05\n",
      "Epoch 30/90\n",
      "11/11 [==============================] - 0s 32ms/step - loss: 0.3346 - accuracy: 0.8509 - auc: 0.9331 - val_loss: 0.7731 - val_accuracy: 0.6441 - val_auc: 0.7244 - lr: 1.0000e-05\n",
      "Epoch 31/90\n",
      "11/11 [==============================] - 0s 29ms/step - loss: 0.3344 - accuracy: 0.8509 - auc: 0.9331 - val_loss: 0.7738 - val_accuracy: 0.6441 - val_auc: 0.7245 - lr: 1.0000e-05\n",
      "Epoch 32/90\n",
      "11/11 [==============================] - 0s 31ms/step - loss: 0.3343 - accuracy: 0.8509 - auc: 0.9330 - val_loss: 0.7738 - val_accuracy: 0.6441 - val_auc: 0.7243 - lr: 1.0000e-05\n",
      "Epoch 33/90\n",
      "11/11 [==============================] - 0s 33ms/step - loss: 0.3340 - accuracy: 0.8509 - auc: 0.9333 - val_loss: 0.7739 - val_accuracy: 0.6441 - val_auc: 0.7245 - lr: 1.0000e-06\n",
      "Epoch 34/90\n",
      "11/11 [==============================] - 0s 34ms/step - loss: 0.3340 - accuracy: 0.8509 - auc: 0.9332 - val_loss: 0.7739 - val_accuracy: 0.6441 - val_auc: 0.7243 - lr: 1.0000e-06\n",
      "Epoch 35/90\n",
      "11/11 [==============================] - 0s 32ms/step - loss: 0.3340 - accuracy: 0.8509 - auc: 0.9333 - val_loss: 0.7740 - val_accuracy: 0.6441 - val_auc: 0.7243 - lr: 1.0000e-06\n",
      "Epoch 36/90\n",
      "11/11 [==============================] - 0s 34ms/step - loss: 0.3340 - accuracy: 0.8509 - auc: 0.9333 - val_loss: 0.7740 - val_accuracy: 0.6441 - val_auc: 0.7243 - lr: 1.0000e-06\n",
      "Epoch 37/90\n",
      "11/11 [==============================] - 0s 32ms/step - loss: 0.3340 - accuracy: 0.8509 - auc: 0.9333 - val_loss: 0.7740 - val_accuracy: 0.6441 - val_auc: 0.7243 - lr: 1.0000e-06\n",
      "Epoch 38/90\n",
      "11/11 [==============================] - 0s 32ms/step - loss: 0.3339 - accuracy: 0.8509 - auc: 0.9333 - val_loss: 0.7741 - val_accuracy: 0.6441 - val_auc: 0.7243 - lr: 1.0000e-06\n",
      "Epoch 39/90\n",
      "11/11 [==============================] - 0s 32ms/step - loss: 0.3339 - accuracy: 0.8509 - auc: 0.9333 - val_loss: 0.7741 - val_accuracy: 0.6441 - val_auc: 0.7244 - lr: 1.0000e-06\n",
      "Epoch 40/90\n",
      "11/11 [==============================] - 0s 32ms/step - loss: 0.3339 - accuracy: 0.8509 - auc: 0.9333 - val_loss: 0.7741 - val_accuracy: 0.6441 - val_auc: 0.7244 - lr: 1.0000e-06\n",
      "Epoch 41/90\n",
      "11/11 [==============================] - 0s 33ms/step - loss: 0.3339 - accuracy: 0.8509 - auc: 0.9333 - val_loss: 0.7741 - val_accuracy: 0.6441 - val_auc: 0.7244 - lr: 1.0000e-06\n",
      "Epoch 42/90\n",
      "11/11 [==============================] - 0s 40ms/step - loss: 0.3339 - accuracy: 0.8509 - auc: 0.9333 - val_loss: 0.7742 - val_accuracy: 0.6441 - val_auc: 0.7243 - lr: 1.0000e-06\n",
      "Epoch 43/90\n",
      "11/11 [==============================] - 0s 35ms/step - loss: 0.3339 - accuracy: 0.8509 - auc: 0.9334 - val_loss: 0.7742 - val_accuracy: 0.6441 - val_auc: 0.7243 - lr: 1.0000e-07\n",
      "Epoch 44/90\n",
      "11/11 [==============================] - 0s 33ms/step - loss: 0.3339 - accuracy: 0.8509 - auc: 0.9334 - val_loss: 0.7742 - val_accuracy: 0.6441 - val_auc: 0.7243 - lr: 1.0000e-07\n",
      "Epoch 45/90\n",
      "11/11 [==============================] - 0s 29ms/step - loss: 0.3339 - accuracy: 0.8509 - auc: 0.9334 - val_loss: 0.7742 - val_accuracy: 0.6441 - val_auc: 0.7243 - lr: 1.0000e-07\n",
      "Epoch 46/90\n",
      "11/11 [==============================] - 0s 29ms/step - loss: 0.3339 - accuracy: 0.8509 - auc: 0.9334 - val_loss: 0.7742 - val_accuracy: 0.6441 - val_auc: 0.7243 - lr: 1.0000e-07\n",
      "Epoch 47/90\n",
      "11/11 [==============================] - 0s 27ms/step - loss: 0.3338 - accuracy: 0.8509 - auc: 0.9334 - val_loss: 0.7742 - val_accuracy: 0.6441 - val_auc: 0.7243 - lr: 1.0000e-07\n",
      "Epoch 48/90\n",
      "11/11 [==============================] - 0s 27ms/step - loss: 0.3338 - accuracy: 0.8509 - auc: 0.9334 - val_loss: 0.7742 - val_accuracy: 0.6441 - val_auc: 0.7243 - lr: 1.0000e-07\n",
      "Epoch 49/90\n",
      "11/11 [==============================] - 0s 28ms/step - loss: 0.3338 - accuracy: 0.8509 - auc: 0.9334 - val_loss: 0.7742 - val_accuracy: 0.6441 - val_auc: 0.7243 - lr: 1.0000e-07\n",
      "Epoch 50/90\n",
      "11/11 [==============================] - 0s 35ms/step - loss: 0.3338 - accuracy: 0.8509 - auc: 0.9334 - val_loss: 0.7742 - val_accuracy: 0.6441 - val_auc: 0.7243 - lr: 1.0000e-07\n",
      "Epoch 51/90\n",
      "11/11 [==============================] - 0s 40ms/step - loss: 0.3338 - accuracy: 0.8509 - auc: 0.9334 - val_loss: 0.7742 - val_accuracy: 0.6441 - val_auc: 0.7243 - lr: 1.0000e-07\n",
      "Epoch 52/90\n",
      "11/11 [==============================] - 0s 36ms/step - loss: 0.3338 - accuracy: 0.8509 - auc: 0.9334 - val_loss: 0.7742 - val_accuracy: 0.6441 - val_auc: 0.7243 - lr: 1.0000e-07\n",
      "Epoch 53/90\n",
      "11/11 [==============================] - 0s 30ms/step - loss: 0.3338 - accuracy: 0.8509 - auc: 0.9334 - val_loss: 0.7742 - val_accuracy: 0.6441 - val_auc: 0.7243 - lr: 1.0000e-08\n",
      "Epoch 54/90\n",
      "11/11 [==============================] - 0s 33ms/step - loss: 0.3338 - accuracy: 0.8509 - auc: 0.9334 - val_loss: 0.7742 - val_accuracy: 0.6441 - val_auc: 0.7243 - lr: 1.0000e-08\n",
      "Epoch 55/90\n",
      "11/11 [==============================] - 0s 32ms/step - loss: 0.3338 - accuracy: 0.8509 - auc: 0.9334 - val_loss: 0.7742 - val_accuracy: 0.6441 - val_auc: 0.7243 - lr: 1.0000e-08\n",
      "Epoch 56/90\n",
      "11/11 [==============================] - 0s 35ms/step - loss: 0.3338 - accuracy: 0.8509 - auc: 0.9334 - val_loss: 0.7742 - val_accuracy: 0.6441 - val_auc: 0.7243 - lr: 1.0000e-08\n",
      "Epoch 57/90\n",
      "11/11 [==============================] - 0s 29ms/step - loss: 0.3338 - accuracy: 0.8509 - auc: 0.9334 - val_loss: 0.7742 - val_accuracy: 0.6441 - val_auc: 0.7243 - lr: 1.0000e-08\n",
      "Epoch 58/90\n",
      "11/11 [==============================] - 0s 32ms/step - loss: 0.3338 - accuracy: 0.8509 - auc: 0.9334 - val_loss: 0.7742 - val_accuracy: 0.6441 - val_auc: 0.7243 - lr: 1.0000e-08\n",
      "Epoch 59/90\n",
      "11/11 [==============================] - 0s 30ms/step - loss: 0.3338 - accuracy: 0.8509 - auc: 0.9334 - val_loss: 0.7742 - val_accuracy: 0.6441 - val_auc: 0.7243 - lr: 1.0000e-08\n",
      "Epoch 60/90\n",
      "11/11 [==============================] - 0s 36ms/step - loss: 0.3338 - accuracy: 0.8509 - auc: 0.9334 - val_loss: 0.7742 - val_accuracy: 0.6441 - val_auc: 0.7243 - lr: 1.0000e-08\n",
      "Epoch 61/90\n",
      "11/11 [==============================] - 0s 28ms/step - loss: 0.3338 - accuracy: 0.8509 - auc: 0.9334 - val_loss: 0.7742 - val_accuracy: 0.6441 - val_auc: 0.7243 - lr: 1.0000e-08\n",
      "Epoch 62/90\n",
      "11/11 [==============================] - 0s 33ms/step - loss: 0.3338 - accuracy: 0.8509 - auc: 0.9334 - val_loss: 0.7742 - val_accuracy: 0.6441 - val_auc: 0.7243 - lr: 1.0000e-08\n",
      "Epoch 63/90\n",
      "11/11 [==============================] - 0s 36ms/step - loss: 0.3338 - accuracy: 0.8509 - auc: 0.9334 - val_loss: 0.7742 - val_accuracy: 0.6441 - val_auc: 0.7243 - lr: 1.0000e-09\n",
      "Epoch 64/90\n",
      "11/11 [==============================] - 0s 29ms/step - loss: 0.3338 - accuracy: 0.8509 - auc: 0.9334 - val_loss: 0.7742 - val_accuracy: 0.6441 - val_auc: 0.7243 - lr: 1.0000e-09\n",
      "Epoch 65/90\n",
      "11/11 [==============================] - 0s 27ms/step - loss: 0.3338 - accuracy: 0.8509 - auc: 0.9334 - val_loss: 0.7742 - val_accuracy: 0.6441 - val_auc: 0.7243 - lr: 1.0000e-09\n",
      "Epoch 66/90\n",
      "11/11 [==============================] - 0s 31ms/step - loss: 0.3338 - accuracy: 0.8509 - auc: 0.9334 - val_loss: 0.7742 - val_accuracy: 0.6441 - val_auc: 0.7243 - lr: 1.0000e-09\n",
      "Epoch 67/90\n",
      "11/11 [==============================] - 0s 29ms/step - loss: 0.3338 - accuracy: 0.8509 - auc: 0.9334 - val_loss: 0.7742 - val_accuracy: 0.6441 - val_auc: 0.7243 - lr: 1.0000e-09\n",
      "Epoch 68/90\n",
      "11/11 [==============================] - 0s 30ms/step - loss: 0.3338 - accuracy: 0.8509 - auc: 0.9334 - val_loss: 0.7742 - val_accuracy: 0.6441 - val_auc: 0.7243 - lr: 1.0000e-09\n",
      "Epoch 69/90\n",
      "11/11 [==============================] - 0s 30ms/step - loss: 0.3338 - accuracy: 0.8509 - auc: 0.9334 - val_loss: 0.7742 - val_accuracy: 0.6441 - val_auc: 0.7243 - lr: 1.0000e-09\n",
      "Epoch 70/90\n",
      "11/11 [==============================] - 0s 29ms/step - loss: 0.3338 - accuracy: 0.8509 - auc: 0.9334 - val_loss: 0.7742 - val_accuracy: 0.6441 - val_auc: 0.7243 - lr: 1.0000e-09\n",
      "Epoch 71/90\n",
      "11/11 [==============================] - 0s 30ms/step - loss: 0.3338 - accuracy: 0.8509 - auc: 0.9334 - val_loss: 0.7742 - val_accuracy: 0.6441 - val_auc: 0.7243 - lr: 1.0000e-09\n",
      "Epoch 72/90\n",
      "11/11 [==============================] - 0s 28ms/step - loss: 0.3338 - accuracy: 0.8509 - auc: 0.9334 - val_loss: 0.7742 - val_accuracy: 0.6441 - val_auc: 0.7243 - lr: 1.0000e-09\n",
      "Epoch 73/90\n",
      "11/11 [==============================] - 0s 29ms/step - loss: 0.3338 - accuracy: 0.8509 - auc: 0.9334 - val_loss: 0.7742 - val_accuracy: 0.6441 - val_auc: 0.7243 - lr: 1.0000e-10\n",
      "Epoch 74/90\n",
      "11/11 [==============================] - 0s 28ms/step - loss: 0.3338 - accuracy: 0.8509 - auc: 0.9334 - val_loss: 0.7742 - val_accuracy: 0.6441 - val_auc: 0.7243 - lr: 1.0000e-10\n",
      "Epoch 75/90\n",
      "11/11 [==============================] - 0s 29ms/step - loss: 0.3338 - accuracy: 0.8509 - auc: 0.9334 - val_loss: 0.7742 - val_accuracy: 0.6441 - val_auc: 0.7243 - lr: 1.0000e-10\n",
      "Epoch 76/90\n",
      "11/11 [==============================] - 0s 33ms/step - loss: 0.3338 - accuracy: 0.8509 - auc: 0.9334 - val_loss: 0.7742 - val_accuracy: 0.6441 - val_auc: 0.7243 - lr: 1.0000e-10\n",
      "Epoch 77/90\n",
      "11/11 [==============================] - 0s 31ms/step - loss: 0.3338 - accuracy: 0.8509 - auc: 0.9334 - val_loss: 0.7742 - val_accuracy: 0.6441 - val_auc: 0.7243 - lr: 1.0000e-10\n",
      "Epoch 78/90\n",
      "11/11 [==============================] - 0s 29ms/step - loss: 0.3338 - accuracy: 0.8509 - auc: 0.9334 - val_loss: 0.7742 - val_accuracy: 0.6441 - val_auc: 0.7243 - lr: 1.0000e-10\n",
      "Epoch 79/90\n",
      "11/11 [==============================] - 0s 29ms/step - loss: 0.3338 - accuracy: 0.8509 - auc: 0.9334 - val_loss: 0.7742 - val_accuracy: 0.6441 - val_auc: 0.7243 - lr: 1.0000e-10\n",
      "Epoch 80/90\n",
      "11/11 [==============================] - 0s 31ms/step - loss: 0.3338 - accuracy: 0.8509 - auc: 0.9334 - val_loss: 0.7742 - val_accuracy: 0.6441 - val_auc: 0.7243 - lr: 1.0000e-10\n",
      "Epoch 81/90\n",
      "11/11 [==============================] - 0s 31ms/step - loss: 0.3338 - accuracy: 0.8509 - auc: 0.9334 - val_loss: 0.7742 - val_accuracy: 0.6441 - val_auc: 0.7243 - lr: 1.0000e-10\n",
      "Epoch 82/90\n",
      "11/11 [==============================] - 0s 32ms/step - loss: 0.3338 - accuracy: 0.8509 - auc: 0.9334 - val_loss: 0.7742 - val_accuracy: 0.6441 - val_auc: 0.7243 - lr: 1.0000e-10\n",
      "Epoch 83/90\n",
      "11/11 [==============================] - 0s 35ms/step - loss: 0.3338 - accuracy: 0.8509 - auc: 0.9334 - val_loss: 0.7742 - val_accuracy: 0.6441 - val_auc: 0.7243 - lr: 1.0000e-11\n",
      "Epoch 84/90\n",
      "11/11 [==============================] - 0s 31ms/step - loss: 0.3338 - accuracy: 0.8509 - auc: 0.9334 - val_loss: 0.7742 - val_accuracy: 0.6441 - val_auc: 0.7243 - lr: 1.0000e-11\n",
      "Epoch 85/90\n",
      "11/11 [==============================] - 0s 40ms/step - loss: 0.3338 - accuracy: 0.8509 - auc: 0.9334 - val_loss: 0.7742 - val_accuracy: 0.6441 - val_auc: 0.7243 - lr: 1.0000e-11\n",
      "Epoch 86/90\n",
      "11/11 [==============================] - 0s 34ms/step - loss: 0.3338 - accuracy: 0.8509 - auc: 0.9334 - val_loss: 0.7742 - val_accuracy: 0.6441 - val_auc: 0.7243 - lr: 1.0000e-11\n",
      "Epoch 87/90\n",
      "11/11 [==============================] - 0s 31ms/step - loss: 0.3338 - accuracy: 0.8509 - auc: 0.9334 - val_loss: 0.7742 - val_accuracy: 0.6441 - val_auc: 0.7243 - lr: 1.0000e-11\n",
      "Epoch 88/90\n",
      "11/11 [==============================] - 0s 32ms/step - loss: 0.3338 - accuracy: 0.8509 - auc: 0.9334 - val_loss: 0.7742 - val_accuracy: 0.6441 - val_auc: 0.7243 - lr: 1.0000e-11\n",
      "Epoch 89/90\n",
      "11/11 [==============================] - 0s 31ms/step - loss: 0.3338 - accuracy: 0.8509 - auc: 0.9334 - val_loss: 0.7742 - val_accuracy: 0.6441 - val_auc: 0.7243 - lr: 1.0000e-11\n",
      "Epoch 90/90\n",
      "11/11 [==============================] - 0s 37ms/step - loss: 0.3338 - accuracy: 0.8509 - auc: 0.9334 - val_loss: 0.7742 - val_accuracy: 0.6441 - val_auc: 0.7243 - lr: 1.0000e-11\n"
     ]
    }
   ],
   "source": [
    "inputs = tf.keras.Input(shape=(X.shape[1],))\n",
    "x = tf.keras.layers.Dense(1024, activation='relu')(inputs)\n",
    "x = tf.keras.layers.Dense(1024, activation='relu')(x)\n",
    "outputs = tf.keras.layers.Dense(1, activation='sigmoid')(x)\n",
    "\n",
    "model = tf.keras.Model(inputs, outputs)\n",
    "\n",
    "\n",
    "model.compile(\n",
    "    optimizer='adam',\n",
    "    loss='binary_crossentropy',\n",
    "    metrics=[\n",
    "        'accuracy',\n",
    "        tf.keras.metrics.AUC(name='auc')\n",
    "    ]\n",
    ")\n",
    "\n",
    "\n",
    "batch_size = 64\n",
    "epochs = 90\n",
    "\n",
    "history = model.fit(\n",
    "    X_train,\n",
    "    y_train,\n",
    "    validation_split=0.2,\n",
    "    batch_size=batch_size,\n",
    "    epochs=epochs,\n",
    "    callbacks=[\n",
    "        tf.keras.callbacks.ReduceLROnPlateau()\n",
    "    ]\n",
    ")"
   ]
  },
  {
   "cell_type": "code",
   "execution_count": 29,
   "id": "393b31b2",
   "metadata": {},
   "outputs": [
    {
     "data": {
      "image/png": "[encoded data removed]",
      "text/plain": [
       "<Figure size 864x432 with 1 Axes>"
      ]
     },
     "metadata": {
      "needs_background": "light"
     },
     "output_type": "display_data"
    }
   ],
   "source": [
    "plt.figure(figsize=(12, 6))\n",
    "\n",
    "plt.plot(range(epochs), history.history['accuracy'], label=\"Training Accuracy\")\n",
    "plt.plot(range(epochs), history.history['val_accuracy'], label=\"Validation Accuracy\")\n",
    "\n",
    "plt.xlabel(\"Epoch\")\n",
    "plt.ylabel(\"Accuracy\")\n",
    "\n",
    "plt.legend()\n",
    "plt.title(\"Accuracy Over Time\")\n",
    "\n",
    "plt.show()"
   ]
  },
  {
   "cell_type": "code",
   "execution_count": 30,
   "id": "84b0e77a",
   "metadata": {},
   "outputs": [
    {
     "name": "stdout",
     "output_type": "stream",
     "text": [
      "12/12 [==============================] - 0s 4ms/step - loss: 0.7263 - accuracy: 0.6984 - auc: 0.7608\n"
     ]
    },
    {
     "data": {
      "text/plain": [
       "[0.7263274192810059, 0.6984127163887024, 0.7607731819152832]"
      ]
     },
     "execution_count": 30,
     "metadata": {},
     "output_type": "execute_result"
    }
   ],
   "source": [
    "model.evaluate(X_test, y_test)"
   ]
  },
  {
   "cell_type": "code",
   "execution_count": 31,
   "id": "8da16b5f",
   "metadata": {},
   "outputs": [],
   "source": [
    "df = pd.DataFrame(X_test)"
   ]
  },
  {
   "cell_type": "code",
   "execution_count": 32,
   "id": "61a3996b",
   "metadata": {},
   "outputs": [
    {
     "data": {
      "text/plain": [
       "(378, 18)"
      ]
     },
     "execution_count": 32,
     "metadata": {},
     "output_type": "execute_result"
    }
   ],
   "source": [
    "df.shape"
   ]
  },
  {
   "cell_type": "code",
   "execution_count": 1,
   "id": "888e9de9",
   "metadata": {
    "tags": []
   },
   "outputs": [],
   "source": [
    "import pickle"
   ]
  },
  {
   "cell_type": "code",
   "execution_count": 37,
   "id": "383348b4",
   "metadata": {},
   "outputs": [
    {
     "name": "stdout",
     "output_type": "stream",
     "text": [
      "Keras weights file (<HDF5 file \"variables.h5\" (mode r+)>) saving:\n",
      "...layers\\dense\n",
      "......vars\n",
      ".........0\n",
      ".........1\n",
      "...layers\\dense_1\n",
      "......vars\n",
      ".........0\n",
      ".........1\n",
      "...layers\\dense_2\n",
      "......vars\n",
      ".........0\n",
      ".........1\n",
      "...layers\\input_layer\n",
      "......vars\n",
      "...metrics\\auc\n",
      "......vars\n",
      ".........0\n",
      ".........1\n",
      ".........2\n",
      ".........3\n",
      "...metrics\\mean\n",
      "......vars\n",
      ".........0\n",
      ".........1\n",
      "...metrics\\mean_metric_wrapper\n",
      "......vars\n",
      ".........0\n",
      ".........1\n",
      "...optimizer\n",
      "......vars\n",
      ".........0\n",
      ".........1\n",
      ".........10\n",
      ".........11\n",
      ".........12\n",
      ".........2\n",
      ".........3\n",
      ".........4\n",
      ".........5\n",
      ".........6\n",
      ".........7\n",
      ".........8\n",
      ".........9\n",
      "...vars\n",
      "Keras model archive saving:\n",
      "File Name                                             Modified             Size\n",
      "config.json                                    2023-02-16 16:33:37         2397\n",
      "metadata.json                                  2023-02-16 16:33:37           64\n",
      "variables.h5                                   2023-02-16 16:33:37     12872184\n"
     ]
    }
   ],
   "source": [
    "filename = 'C:\\\\Users\\\\ritik\\\\Desktop\\\\model.pkl'\n",
    "pickle.dump(history, open(filename, 'wb'))"
   ]
  },
  {
   "cell_type": "code",
   "execution_count": 43,
   "id": "1a3bc845",
   "metadata": {},
   "outputs": [
    {
     "ename": "AttributeError",
     "evalue": "'Functional' object has no attribute 'startswith'",
     "output_type": "error",
     "traceback": [
      "\u001b[1;31m---------------------------------------------------------------------------\u001b[0m",
      "\u001b[1;31mAttributeError\u001b[0m                            Traceback (most recent call last)",
      "\u001b[1;32m~\\AppData\\Local\\Temp/ipykernel_18536/793533895.py\u001b[0m in \u001b[0;36m<module>\u001b[1;34m\u001b[0m\n\u001b[0;32m      5\u001b[0m \u001b[1;32mimport\u001b[0m \u001b[0mpickle\u001b[0m\u001b[1;33m\u001b[0m\u001b[1;33m\u001b[0m\u001b[0m\n\u001b[0;32m      6\u001b[0m \u001b[1;32mfrom\u001b[0m \u001b[0mflask\u001b[0m \u001b[1;32mimport\u001b[0m \u001b[0mFlask\u001b[0m\u001b[1;33m,\u001b[0m \u001b[0mrender_template\u001b[0m\u001b[1;33m,\u001b[0m \u001b[0mrequest\u001b[0m\u001b[1;33m\u001b[0m\u001b[1;33m\u001b[0m\u001b[0m\n\u001b[1;32m----> 7\u001b[1;33m \u001b[0mapp\u001b[0m\u001b[1;33m=\u001b[0m\u001b[0mFlask\u001b[0m\u001b[1;33m(\u001b[0m\u001b[0mmodel\u001b[0m\u001b[1;33m)\u001b[0m\u001b[1;33m\u001b[0m\u001b[1;33m\u001b[0m\u001b[0m\n\u001b[0m\u001b[0;32m      8\u001b[0m \u001b[1;33m@\u001b[0m\u001b[0mapp\u001b[0m\u001b[1;33m.\u001b[0m\u001b[0mroute\u001b[0m\u001b[1;33m(\u001b[0m\u001b[1;34m'C:\\\\Users\\\\ritik\\\\Desktop\\\\model.pkl'\u001b[0m\u001b[1;33m)\u001b[0m\u001b[1;33m\u001b[0m\u001b[1;33m\u001b[0m\u001b[0m\n\u001b[0;32m      9\u001b[0m \u001b[1;32mdef\u001b[0m \u001b[0mindex\u001b[0m\u001b[1;33m(\u001b[0m\u001b[1;33m)\u001b[0m\u001b[1;33m:\u001b[0m\u001b[1;33m\u001b[0m\u001b[1;33m\u001b[0m\u001b[0m\n",
      "\u001b[1;32mD:\\Anaconda\\lib\\site-packages\\flask\\app.py\u001b[0m in \u001b[0;36m__init__\u001b[1;34m(self, import_name, static_url_path, static_folder, static_host, host_matching, subdomain_matching, template_folder, instance_path, instance_relative_config, root_path)\u001b[0m\n\u001b[0;32m    413\u001b[0m         \u001b[0mroot_path\u001b[0m\u001b[1;33m=\u001b[0m\u001b[1;32mNone\u001b[0m\u001b[1;33m,\u001b[0m\u001b[1;33m\u001b[0m\u001b[1;33m\u001b[0m\u001b[0m\n\u001b[0;32m    414\u001b[0m     ):\n\u001b[1;32m--> 415\u001b[1;33m         _PackageBoundObject.__init__(\n\u001b[0m\u001b[0;32m    416\u001b[0m             \u001b[0mself\u001b[0m\u001b[1;33m,\u001b[0m \u001b[0mimport_name\u001b[0m\u001b[1;33m,\u001b[0m \u001b[0mtemplate_folder\u001b[0m\u001b[1;33m=\u001b[0m\u001b[0mtemplate_folder\u001b[0m\u001b[1;33m,\u001b[0m \u001b[0mroot_path\u001b[0m\u001b[1;33m=\u001b[0m\u001b[0mroot_path\u001b[0m\u001b[1;33m\u001b[0m\u001b[1;33m\u001b[0m\u001b[0m\n\u001b[0;32m    417\u001b[0m         )\n",
      "\u001b[1;32mD:\\Anaconda\\lib\\site-packages\\flask\\helpers.py\u001b[0m in \u001b[0;36m__init__\u001b[1;34m(self, import_name, template_folder, root_path)\u001b[0m\n\u001b[0;32m    978\u001b[0m \u001b[1;33m\u001b[0m\u001b[0m\n\u001b[0;32m    979\u001b[0m         \u001b[1;32mif\u001b[0m \u001b[0mroot_path\u001b[0m \u001b[1;32mis\u001b[0m \u001b[1;32mNone\u001b[0m\u001b[1;33m:\u001b[0m\u001b[1;33m\u001b[0m\u001b[1;33m\u001b[0m\u001b[0m\n\u001b[1;32m--> 980\u001b[1;33m             \u001b[0mroot_path\u001b[0m \u001b[1;33m=\u001b[0m \u001b[0mget_root_path\u001b[0m\u001b[1;33m(\u001b[0m\u001b[0mself\u001b[0m\u001b[1;33m.\u001b[0m\u001b[0mimport_name\u001b[0m\u001b[1;33m)\u001b[0m\u001b[1;33m\u001b[0m\u001b[1;33m\u001b[0m\u001b[0m\n\u001b[0m\u001b[0;32m    981\u001b[0m \u001b[1;33m\u001b[0m\u001b[0m\n\u001b[0;32m    982\u001b[0m         \u001b[0mself\u001b[0m\u001b[1;33m.\u001b[0m\u001b[0mroot_path\u001b[0m \u001b[1;33m=\u001b[0m \u001b[0mroot_path\u001b[0m\u001b[1;33m\u001b[0m\u001b[1;33m\u001b[0m\u001b[0m\n",
      "\u001b[1;32mD:\\Anaconda\\lib\\site-packages\\flask\\helpers.py\u001b[0m in \u001b[0;36mget_root_path\u001b[1;34m(import_name)\u001b[0m\n\u001b[0;32m    784\u001b[0m \u001b[1;33m\u001b[0m\u001b[0m\n\u001b[0;32m    785\u001b[0m     \u001b[1;31m# Next attempt: check the loader.\u001b[0m\u001b[1;33m\u001b[0m\u001b[1;33m\u001b[0m\u001b[0m\n\u001b[1;32m--> 786\u001b[1;33m     \u001b[0mloader\u001b[0m \u001b[1;33m=\u001b[0m \u001b[0mpkgutil\u001b[0m\u001b[1;33m.\u001b[0m\u001b[0mget_loader\u001b[0m\u001b[1;33m(\u001b[0m\u001b[0mimport_name\u001b[0m\u001b[1;33m)\u001b[0m\u001b[1;33m\u001b[0m\u001b[1;33m\u001b[0m\u001b[0m\n\u001b[0m\u001b[0;32m    787\u001b[0m \u001b[1;33m\u001b[0m\u001b[0m\n\u001b[0;32m    788\u001b[0m     \u001b[1;31m# Loader does not exist or we're referring to an unloaded main module\u001b[0m\u001b[1;33m\u001b[0m\u001b[1;33m\u001b[0m\u001b[0m\n",
      "\u001b[1;32mD:\\Anaconda\\lib\\pkgutil.py\u001b[0m in \u001b[0;36mget_loader\u001b[1;34m(module_or_name)\u001b[0m\n\u001b[0;32m    479\u001b[0m     \u001b[1;32melse\u001b[0m\u001b[1;33m:\u001b[0m\u001b[1;33m\u001b[0m\u001b[1;33m\u001b[0m\u001b[0m\n\u001b[0;32m    480\u001b[0m         \u001b[0mfullname\u001b[0m \u001b[1;33m=\u001b[0m \u001b[0mmodule_or_name\u001b[0m\u001b[1;33m\u001b[0m\u001b[1;33m\u001b[0m\u001b[0m\n\u001b[1;32m--> 481\u001b[1;33m     \u001b[1;32mreturn\u001b[0m \u001b[0mfind_loader\u001b[0m\u001b[1;33m(\u001b[0m\u001b[0mfullname\u001b[0m\u001b[1;33m)\u001b[0m\u001b[1;33m\u001b[0m\u001b[1;33m\u001b[0m\u001b[0m\n\u001b[0m\u001b[0;32m    482\u001b[0m \u001b[1;33m\u001b[0m\u001b[0m\n\u001b[0;32m    483\u001b[0m \u001b[1;33m\u001b[0m\u001b[0m\n",
      "\u001b[1;32mD:\\Anaconda\\lib\\pkgutil.py\u001b[0m in \u001b[0;36mfind_loader\u001b[1;34m(fullname)\u001b[0m\n\u001b[0;32m    489\u001b[0m     \u001b[1;32mand\u001b[0m \u001b[0monly\u001b[0m \u001b[0mreturns\u001b[0m \u001b[0mthe\u001b[0m \u001b[0mloader\u001b[0m \u001b[0mrather\u001b[0m \u001b[0mthan\u001b[0m \u001b[0mthe\u001b[0m \u001b[0mfull\u001b[0m \u001b[0mspec\u001b[0m\u001b[1;33m\u001b[0m\u001b[1;33m\u001b[0m\u001b[0m\n\u001b[0;32m    490\u001b[0m     \"\"\"\n\u001b[1;32m--> 491\u001b[1;33m     \u001b[1;32mif\u001b[0m \u001b[0mfullname\u001b[0m\u001b[1;33m.\u001b[0m\u001b[0mstartswith\u001b[0m\u001b[1;33m(\u001b[0m\u001b[1;34m'.'\u001b[0m\u001b[1;33m)\u001b[0m\u001b[1;33m:\u001b[0m\u001b[1;33m\u001b[0m\u001b[1;33m\u001b[0m\u001b[0m\n\u001b[0m\u001b[0;32m    492\u001b[0m         \u001b[0mmsg\u001b[0m \u001b[1;33m=\u001b[0m \u001b[1;34m\"Relative module name {!r} not supported\"\u001b[0m\u001b[1;33m.\u001b[0m\u001b[0mformat\u001b[0m\u001b[1;33m(\u001b[0m\u001b[0mfullname\u001b[0m\u001b[1;33m)\u001b[0m\u001b[1;33m\u001b[0m\u001b[1;33m\u001b[0m\u001b[0m\n\u001b[0;32m    493\u001b[0m         \u001b[1;32mraise\u001b[0m \u001b[0mImportError\u001b[0m\u001b[1;33m(\u001b[0m\u001b[0mmsg\u001b[0m\u001b[1;33m)\u001b[0m\u001b[1;33m\u001b[0m\u001b[1;33m\u001b[0m\u001b[0m\n",
      "\u001b[1;31mAttributeError\u001b[0m: 'Functional' object has no attribute 'startswith'"
     ]
    }
   ],
   "source": [
    "import os\n",
    "import pandas as pd \n",
    "import numpy as np \n",
    "import flask\n",
    "import pickle\n",
    "from flask import Flask, render_template, request\n",
    "app=Flask()\n",
    "@app.route('C:\\\\Users\\\\ritik\\\\Desktop\\\\model.pkl')\n",
    "def index():\n",
    " return flask.render_template('index.html')\n",
    "def ValuePredictor(to_predict_list):\n",
    " to_predict = np.array(to_predict_list).reshape(1,4)\n",
    " loaded_model = pickle.load(open('model.pkl','rb'))\n",
    " result = loaded_model.predict(to_predict)\n",
    " return result[0]\n",
    "@app.route('/predict',methods = ['POST'])\n",
    "def result():\n",
    " if request.method == 'POST':\n",
    "     to_predict_list = request.form.to_dict()\n",
    "     to_predict_list=list(to_predict_list.values())\n",
    "     to_predict_list = list(map(float, to_predict_list))\n",
    "     result = ValuePredictor(to_predict_list)\n",
    "     prediction = str(result)\n",
    " return render_template('predict.html',prediction=prediction)\n",
    "if _name_ == '_main_':\n",
    " app.run(debug=True)"
   ]
  },
  {
   "cell_type": "code",
   "execution_count": null,
   "id": "f1ea2185",
   "metadata": {},
   "outputs": [],
   "source": []
  }
 ],
 "metadata": {
  "kernelspec": {
   "display_name": "Python 3 (ipykernel)",
   "language": "python",
   "name": "python3"
  },
  "language_info": {
   "codemirror_mode": {
    "name": "ipython",
    "version": 3
   },
   "file_extension": ".py",
   "mimetype": "text/x-python",
   "name": "python",
   "nbconvert_exporter": "python",
   "pygments_lexer": "ipython3",
   "version": "3.11.2"
  }
 },
 "nbformat": 4,
 "nbformat_minor": 5
}
